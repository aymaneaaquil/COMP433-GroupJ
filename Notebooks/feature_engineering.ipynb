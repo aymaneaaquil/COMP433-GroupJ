{
 "cells": [
  {
   "cell_type": "code",
   "id": "initial_id",
   "metadata": {
    "collapsed": true,
    "ExecuteTime": {
     "end_time": "2024-12-06T23:39:57.075564Z",
     "start_time": "2024-12-06T23:39:57.068671Z"
    }
   },
   "source": [
    "import pandas as pd\n",
    "import warnings\n",
    "from sklearn.preprocessing import LabelEncoder\n",
    "import numpy as np\n",
    "\n",
    "warnings.filterwarnings('ignore')"
   ],
   "outputs": [],
   "execution_count": 36
  },
  {
   "metadata": {
    "ExecuteTime": {
     "end_time": "2024-12-06T23:12:58.013216Z",
     "start_time": "2024-12-06T23:12:57.960007Z"
    }
   },
   "cell_type": "code",
   "source": "df = pd.read_csv('CSV')",
   "id": "d5e8f76cf356e816",
   "outputs": [],
   "execution_count": 25
  },
  {
   "metadata": {
    "ExecuteTime": {
     "end_time": "2024-12-06T23:47:13.918085Z",
     "start_time": "2024-12-06T23:47:13.912055Z"
    }
   },
   "cell_type": "code",
   "source": "print(df['patient_id'].value_counts())",
   "id": "c2ee8e961c6de545",
   "outputs": [
    {
     "name": "stdout",
     "output_type": "stream",
     "text": [
      "patient_id\n",
      "IP_1117889    170\n",
      "IP_5714646    125\n",
      "IP_3921915    107\n",
      "IP_7797815     83\n",
      "IP_9577633     76\n",
      "             ... \n",
      "IP_3557879      1\n",
      "IP_3752806      1\n",
      "IP_7845325      1\n",
      "IP_7655469      1\n",
      "IP_5475307      1\n",
      "Name: count, Length: 942, dtype: int64\n"
     ]
    }
   ],
   "execution_count": 42
  },
  {
   "metadata": {
    "ExecuteTime": {
     "end_time": "2024-12-06T23:12:59.429776Z",
     "start_time": "2024-12-06T23:12:59.424500Z"
    }
   },
   "cell_type": "code",
   "source": [
    "def drop(df, columns_to_drop):\n",
    "      return df.drop(columns=columns_to_drop)"
   ],
   "id": "bb37027913204a18",
   "outputs": [],
   "execution_count": 27
  },
  {
   "metadata": {
    "ExecuteTime": {
     "end_time": "2024-12-06T23:13:00.029841Z",
     "start_time": "2024-12-06T23:13:00.025146Z"
    }
   },
   "cell_type": "code",
   "source": [
    "to_drop = [\"patient_id\",\"image_type\",\"tbp_tile_type\",\"attribution\",\"copyright_license\",\"lesion_id\",\"iddx_full\",\"iddx_1\",\"iddx_2\",\"iddx_3\",\"iddx_4\",\"iddx_5\",\"mel_mitotic_index\",\"mel_thick_mm\"]\n",
    "\n",
    "reduced = drop(df,to_drop)"
   ],
   "id": "7020f4ce3653de0b",
   "outputs": [],
   "execution_count": 28
  },
  {
   "metadata": {
    "ExecuteTime": {
     "end_time": "2024-12-06T23:13:00.482631Z",
     "start_time": "2024-12-06T23:13:00.480505Z"
    }
   },
   "cell_type": "code",
   "source": [
    "def fill_na_with_backward(df):\n",
    "      df_filled = df.fillna(method='bfill')\n",
    "      return df_filled"
   ],
   "id": "62a70dcc29784174",
   "outputs": [],
   "execution_count": 29
  },
  {
   "metadata": {
    "ExecuteTime": {
     "end_time": "2024-12-06T23:13:01.084285Z",
     "start_time": "2024-12-06T23:13:01.077642Z"
    }
   },
   "cell_type": "code",
   "source": [
    "missing_values = reduced.isnull().sum()\n",
    "print(missing_values)"
   ],
   "id": "8fc1ae4a6af6bed0",
   "outputs": [
    {
     "name": "stdout",
     "output_type": "stream",
     "text": [
      "isic_id                           0\n",
      "target                            0\n",
      "age_approx                       55\n",
      "sex                             232\n",
      "anatom_site_general             115\n",
      "clin_size_long_diam_mm            0\n",
      "tbp_lv_A                          0\n",
      "tbp_lv_Aext                       0\n",
      "tbp_lv_B                          0\n",
      "tbp_lv_Bext                       0\n",
      "tbp_lv_C                          0\n",
      "tbp_lv_Cext                       0\n",
      "tbp_lv_H                          0\n",
      "tbp_lv_Hext                       0\n",
      "tbp_lv_L                          0\n",
      "tbp_lv_Lext                       0\n",
      "tbp_lv_areaMM2                    0\n",
      "tbp_lv_area_perim_ratio           0\n",
      "tbp_lv_color_std_mean             0\n",
      "tbp_lv_deltaA                     0\n",
      "tbp_lv_deltaB                     0\n",
      "tbp_lv_deltaL                     0\n",
      "tbp_lv_deltaLB                    0\n",
      "tbp_lv_deltaLBnorm                0\n",
      "tbp_lv_eccentricity               0\n",
      "tbp_lv_location                   0\n",
      "tbp_lv_location_simple            0\n",
      "tbp_lv_minorAxisMM                0\n",
      "tbp_lv_nevi_confidence            0\n",
      "tbp_lv_norm_border                0\n",
      "tbp_lv_norm_color                 0\n",
      "tbp_lv_perimeterMM                0\n",
      "tbp_lv_radial_color_std_max       0\n",
      "tbp_lv_stdL                       0\n",
      "tbp_lv_stdLExt                    0\n",
      "tbp_lv_symm_2axis                 0\n",
      "tbp_lv_symm_2axis_angle           0\n",
      "tbp_lv_x                          0\n",
      "tbp_lv_y                          0\n",
      "tbp_lv_z                          0\n",
      "tbp_lv_dnn_lesion_confidence      0\n",
      "dtype: int64\n"
     ]
    }
   ],
   "execution_count": 30
  },
  {
   "metadata": {
    "ExecuteTime": {
     "end_time": "2024-12-06T23:13:01.710516Z",
     "start_time": "2024-12-06T23:13:01.701017Z"
    }
   },
   "cell_type": "code",
   "source": "updated_reduced = fill_na_with_backward(reduced)",
   "id": "bb4e3c9b8fdd86ef",
   "outputs": [],
   "execution_count": 31
  },
  {
   "metadata": {
    "ExecuteTime": {
     "end_time": "2024-12-06T23:13:07.580160Z",
     "start_time": "2024-12-06T23:13:07.575156Z"
    }
   },
   "cell_type": "code",
   "source": [
    "missing_values = updated_reduced.isnull().sum()\n",
    "print(missing_values)"
   ],
   "id": "afafd8d73db17f4a",
   "outputs": [
    {
     "name": "stdout",
     "output_type": "stream",
     "text": [
      "isic_id                         0\n",
      "target                          0\n",
      "age_approx                      0\n",
      "sex                             0\n",
      "anatom_site_general             0\n",
      "clin_size_long_diam_mm          0\n",
      "tbp_lv_A                        0\n",
      "tbp_lv_Aext                     0\n",
      "tbp_lv_B                        0\n",
      "tbp_lv_Bext                     0\n",
      "tbp_lv_C                        0\n",
      "tbp_lv_Cext                     0\n",
      "tbp_lv_H                        0\n",
      "tbp_lv_Hext                     0\n",
      "tbp_lv_L                        0\n",
      "tbp_lv_Lext                     0\n",
      "tbp_lv_areaMM2                  0\n",
      "tbp_lv_area_perim_ratio         0\n",
      "tbp_lv_color_std_mean           0\n",
      "tbp_lv_deltaA                   0\n",
      "tbp_lv_deltaB                   0\n",
      "tbp_lv_deltaL                   0\n",
      "tbp_lv_deltaLB                  0\n",
      "tbp_lv_deltaLBnorm              0\n",
      "tbp_lv_eccentricity             0\n",
      "tbp_lv_location                 0\n",
      "tbp_lv_location_simple          0\n",
      "tbp_lv_minorAxisMM              0\n",
      "tbp_lv_nevi_confidence          0\n",
      "tbp_lv_norm_border              0\n",
      "tbp_lv_norm_color               0\n",
      "tbp_lv_perimeterMM              0\n",
      "tbp_lv_radial_color_std_max     0\n",
      "tbp_lv_stdL                     0\n",
      "tbp_lv_stdLExt                  0\n",
      "tbp_lv_symm_2axis               0\n",
      "tbp_lv_symm_2axis_angle         0\n",
      "tbp_lv_x                        0\n",
      "tbp_lv_y                        0\n",
      "tbp_lv_z                        0\n",
      "tbp_lv_dnn_lesion_confidence    0\n",
      "dtype: int64\n"
     ]
    }
   ],
   "execution_count": 32
  },
  {
   "metadata": {
    "ExecuteTime": {
     "end_time": "2024-12-06T23:17:01.359575Z",
     "start_time": "2024-12-06T23:17:01.356699Z"
    }
   },
   "cell_type": "code",
   "source": [
    "def encode_categorical_features(df):\n",
    "      label_encoder = LabelEncoder()\n",
    "\n",
    "      for column in df.select_dtypes(include=['object']).columns:\n",
    "            df[column] = label_encoder.fit_transform(df[column])\n",
    "\n",
    "      return df"
   ],
   "id": "f191c5e0665e3c8f",
   "outputs": [],
   "execution_count": 34
  },
  {
   "metadata": {
    "ExecuteTime": {
     "end_time": "2024-12-07T00:36:22.392387Z",
     "start_time": "2024-12-07T00:36:22.387547Z"
    }
   },
   "cell_type": "code",
   "source": "final_df = encode_categorical_features(updated_reduced)",
   "id": "34094c04dcd60c93",
   "outputs": [
    {
     "name": "stdout",
     "output_type": "stream",
     "text": [
      "      isic_id  target  age_approx  sex  anatom_site_general  \\\n",
      "0           0       0        60.0    0                    2   \n",
      "1           1       0        55.0    1                    3   \n",
      "2           2       0        55.0    0                    4   \n",
      "3           3       0        80.0    0                    2   \n",
      "4           4       0        50.0    1                    3   \n",
      "...       ...     ...         ...  ...                  ...   \n",
      "8308     8308       0        50.0    1                    3   \n",
      "8309     8309       0        80.0    1                    1   \n",
      "8310     8310       0        50.0    1                    0   \n",
      "8311     8311       0        55.0    1                    2   \n",
      "8312     8312       0        30.0    0                    0   \n",
      "\n",
      "      clin_size_long_diam_mm   tbp_lv_A  tbp_lv_Aext   tbp_lv_B  tbp_lv_Bext  \\\n",
      "0                       4.25  19.808190    14.867490  30.426000    29.273900   \n",
      "1                       3.69  23.663540    18.114070  30.176390    28.515840   \n",
      "2                       3.46  20.096444    15.593689  29.905865    27.668611   \n",
      "3                       5.88  18.407666    14.576943  17.453021    20.013345   \n",
      "4                       3.35  19.011860    13.735700  28.501250    26.062010   \n",
      "...                      ...        ...          ...        ...          ...   \n",
      "8308                    7.02  20.543780    16.659260  27.559670    25.976320   \n",
      "8309                    2.65  21.403900    19.378040  30.816280    29.223610   \n",
      "8310                    4.47  17.798310    13.383488  30.895528    28.461183   \n",
      "8311                    3.26  17.055580    14.729500  23.429270    22.695330   \n",
      "8312                    2.80  22.288570     9.564721  28.431200    27.012250   \n",
      "\n",
      "      ...  tbp_lv_symm_2axis_angle    tbp_lv_x     tbp_lv_y    tbp_lv_z  \\\n",
      "0     ...                      165 -147.501700   706.817900  101.265500   \n",
      "1     ...                        0 -120.520800  1546.752000  113.115700   \n",
      "2     ...                       75  232.339172  1133.510498   38.670837   \n",
      "3     ...                       70  199.223755   744.251343   55.726166   \n",
      "4     ...                       15  -49.893510  1335.844000  163.687100   \n",
      "...   ...                      ...         ...          ...         ...   \n",
      "8308  ...                       65  -90.692020  1062.854000  112.416600   \n",
      "8309  ...                      165  -81.471250  1570.482000  -91.800600   \n",
      "8310  ...                       55 -163.620544  1217.104248  -36.293823   \n",
      "8311  ...                       35 -138.058200   479.492800   81.797300   \n",
      "8312  ...                      140   -9.861557   877.527000  -76.982120   \n",
      "\n",
      "      tbp_lv_dnn_lesion_confidence  lesion_size_ratio  size_age_interaction  \\\n",
      "0                        99.999960           0.731694                255.00   \n",
      "1                        99.999870           0.930439                202.95   \n",
      "2                        99.998319           0.831343                190.30   \n",
      "3                        98.639745           0.562977                470.40   \n",
      "4                        89.150140           0.454967                167.50   \n",
      "...                            ...                ...                   ...   \n",
      "8308                     99.867180           0.493662                351.00   \n",
      "8309                     77.421010           0.333727                212.00   \n",
      "8310                     99.995685           0.459686                223.50   \n",
      "8311                     99.498130           0.703209                179.30   \n",
      "8312                    100.000000           0.909980                 84.00   \n",
      "\n",
      "      mean_hue_difference  3d_lesion_orientation  Number_of_occurence  \n",
      "0               60.004915               1.776528                   19  \n",
      "1               54.736255               1.648558                   15  \n",
      "2               58.347109               1.368624                  170  \n",
      "3               48.703477               1.309245                   25  \n",
      "4               59.251805               1.608129                   13  \n",
      "...                   ...                    ...                  ...  \n",
      "8308            55.312510               1.655919                   76  \n",
      "8309            55.834675               1.622626                   45  \n",
      "8310            62.434986               1.704429                  107  \n",
      "8311            55.481445               1.851139                   31  \n",
      "8312            61.203480               1.582034                   12  \n",
      "\n",
      "[8313 rows x 46 columns]\n"
     ]
    }
   ],
   "execution_count": 75
  },
  {
   "metadata": {},
   "cell_type": "markdown",
   "source": "### Adding features for testing ",
   "id": "c045bebdc5609abf"
  },
  {
   "metadata": {
    "ExecuteTime": {
     "end_time": "2024-12-06T23:45:35.158457Z",
     "start_time": "2024-12-06T23:45:35.150235Z"
    }
   },
   "cell_type": "code",
   "source": [
    "final_df[\"lesion_size_ratio\"] = final_df[\"tbp_lv_minorAxisMM\"] / final_df[\"clin_size_long_diam_mm\"]\n",
    "final_df[\"size_age_interaction\"] = final_df[\"clin_size_long_diam_mm\"] * final_df[\"age_approx\"]\n",
    "final_df[\"mean_hue_difference\"] = (df[\"tbp_lv_H\"] + df[\"tbp_lv_Hext\"]) / 2\n",
    "final_df[\"3d_lesion_orientation\"] = np.arctan2(final_df[\"tbp_lv_y\"], final_df[\"tbp_lv_x\"])\n",
    "final_df['Number_of_occurence'] = df.groupby('patient_id')['patient_id'].transform('count')"
   ],
   "id": "f6d91ed94f16bafc",
   "outputs": [],
   "execution_count": 39
  },
  {
   "metadata": {
    "ExecuteTime": {
     "end_time": "2024-12-07T00:10:40.369325Z",
     "start_time": "2024-12-07T00:10:36.741298Z"
    }
   },
   "cell_type": "code",
   "source": [
    "import pandas as pd\n",
    "import numpy as np\n",
    "import matplotlib.pyplot as plt\n",
    "import seaborn as sns\n",
    "from lightgbm import LGBMClassifier\n",
    "from catboost import CatBoostClassifier\n",
    "from xgboost import XGBClassifier\n",
    "\n",
    "def feature_selection_across_models(df, target_column, top_n=20):\n",
    "\n",
    "      models = {\n",
    "            'LightGBM': LGBMClassifier(),\n",
    "            'CatBoost': CatBoostClassifier(verbose=0),  # Verbose=0 suppresses the training log\n",
    "            'XGBoost': XGBClassifier(use_label_encoder=False, eval_metric='logloss')\n",
    "      }\n",
    "\n",
    "      X = df.drop(columns=[target_column, 'isic_id'])  # Drop 'isic_id' from features\n",
    "      y = df[target_column]\n",
    "\n",
    "      importance_df = pd.DataFrame()\n",
    "\n",
    "      for model_name, model in models.items():\n",
    "            model.fit(X, y)\n",
    "            importances = model.feature_importances_\n",
    "            importance_df[model_name] = importances\n",
    "\n",
    "      importance_df = importance_df.apply(pd.to_numeric, errors='coerce')\n",
    "\n",
    "      importance_df['Total_Importance'] = importance_df.sum(axis=1, skipna=True)\n",
    "\n",
    "      importance_df = importance_df.sort_values(by='Total_Importance', ascending=False)\n",
    "\n",
    "      importance_df['Feature'] = X.columns\n",
    "\n",
    "      top_features = importance_df[['Feature', 'Total_Importance']].head(top_n)\n",
    "\n",
    "      plt.figure(figsize=(12, 8))\n",
    "      sns.barplot(x='Total_Importance', y='Feature', data=importance_df, palette='viridis')\n",
    "      plt.title('Feature Importance Across Models')\n",
    "      plt.xlabel('Total Importance')\n",
    "      plt.ylabel('Feature')\n",
    "      plt.show()\n",
    "\n",
    "\n",
    "      return top_features\n",
    "\n",
    "top_features = feature_selection_across_models(final_df, target_column='target', top_n=20)\n",
    "print(\"Top 20 features selected across models:\", top_features)"
   ],
   "id": "c79da1c89023f08d",
   "outputs": [
    {
     "name": "stdout",
     "output_type": "stream",
     "text": [
      "[LightGBM] [Info] Number of positive: 314, number of negative: 7999\n",
      "[LightGBM] [Info] Auto-choosing col-wise multi-threading, the overhead of testing was 0.000869 seconds.\n",
      "You can set `force_col_wise=true` to remove the overhead.\n",
      "[LightGBM] [Info] Total Bins 9569\n",
      "[LightGBM] [Info] Number of data points in the train set: 8313, number of used features: 44\n",
      "[LightGBM] [Info] [binary:BoostFromScore]: pavg=0.037772 -> initscore=-3.237679\n",
      "[LightGBM] [Info] Start training from score -3.237679\n"
     ]
    },
    {
     "data": {
      "text/plain": [
       "<Figure size 1200x800 with 1 Axes>"
      ],
      "image/png": "[encoded data removed]"
     },
     "metadata": {},
     "output_type": "display_data"
    },
    {
     "name": "stdout",
     "output_type": "stream",
     "text": [
      "Top 20 features selected across models:                     Feature  Total_Importance\n",
      "10               age_approx        128.760935\n",
      "32                      sex        126.020870\n",
      "36      anatom_site_general        120.469974\n",
      "17   clin_size_long_diam_mm        112.436320\n",
      "18                 tbp_lv_A        112.112086\n",
      "3               tbp_lv_Aext        111.781357\n",
      "26                 tbp_lv_B        105.955475\n",
      "38              tbp_lv_Bext        105.624016\n",
      "37                 tbp_lv_C         99.506395\n",
      "21              tbp_lv_Cext         94.266044\n",
      "43                 tbp_lv_H         93.453483\n",
      "22              tbp_lv_Hext         93.173949\n",
      "33                 tbp_lv_L         92.641554\n",
      "25              tbp_lv_Lext         91.869195\n",
      "40           tbp_lv_areaMM2         84.447831\n",
      "5   tbp_lv_area_perim_ratio         77.122600\n",
      "0     tbp_lv_color_std_mean         74.513544\n",
      "13            tbp_lv_deltaA         73.290934\n",
      "15            tbp_lv_deltaB         72.185860\n",
      "12            tbp_lv_deltaL         72.123475\n"
     ]
    }
   ],
   "execution_count": 56
  },
  {
   "metadata": {
    "ExecuteTime": {
     "end_time": "2024-12-07T01:44:48.813176Z",
     "start_time": "2024-12-07T01:44:48.808336Z"
    }
   },
   "cell_type": "code",
   "source": [
    "feature_list = top_features['Feature'].tolist()\n",
    "# feature_list.append(df['isic_id'])\n",
    "print(feature_list)\n",
    "dataset = final_df[feature_list]\n",
    "dataset['isic_id'] = df['isic_id']\n",
    "dataset['target'] = df['target']\n",
    "\n"
   ],
   "id": "1fd8063f14492911",
   "outputs": [
    {
     "name": "stdout",
     "output_type": "stream",
     "text": [
      "['age_approx', 'sex', 'anatom_site_general', 'clin_size_long_diam_mm', 'tbp_lv_A', 'tbp_lv_Aext', 'tbp_lv_B', 'tbp_lv_Bext', 'tbp_lv_C', 'tbp_lv_Cext', 'tbp_lv_H', 'tbp_lv_Hext', 'tbp_lv_L', 'tbp_lv_Lext', 'tbp_lv_areaMM2', 'tbp_lv_area_perim_ratio', 'tbp_lv_color_std_mean', 'tbp_lv_deltaA', 'tbp_lv_deltaB', 'tbp_lv_deltaL']\n",
      "0       0\n",
      "1       0\n",
      "2       0\n",
      "3       0\n",
      "4       0\n",
      "       ..\n",
      "8308    0\n",
      "8309    0\n",
      "8310    0\n",
      "8311    0\n",
      "8312    0\n",
      "Name: target, Length: 8313, dtype: int64\n"
     ]
    }
   ],
   "execution_count": 89
  },
  {
   "metadata": {
    "ExecuteTime": {
     "end_time": "2024-12-07T01:45:19.720150Z",
     "start_time": "2024-12-07T01:45:19.626011Z"
    }
   },
   "cell_type": "code",
   "source": "dataset.to_csv('FE_csv.csv', index=False)",
   "id": "4097e037de838994",
   "outputs": [],
   "execution_count": 90
  },
  {
   "metadata": {
    "ExecuteTime": {
     "end_time": "2024-12-07T02:04:43.488290Z",
     "start_time": "2024-12-07T02:04:43.483908Z"
    }
   },
   "cell_type": "code",
   "source": "print(dataset['target'].value_counts())",
   "id": "329e3a29725b04dd",
   "outputs": [
    {
     "name": "stdout",
     "output_type": "stream",
     "text": [
      "target\n",
      "0    7999\n",
      "1     314\n",
      "Name: count, dtype: int64\n"
     ]
    }
   ],
   "execution_count": 92
  },
  {
   "metadata": {},
   "cell_type": "markdown",
   "source": "# TEST SET",
   "id": "a698a38e53e8b019"
  },
  {
   "metadata": {
    "ExecuteTime": {
     "end_time": "2024-12-07T04:16:19.012968Z",
     "start_time": "2024-12-07T04:16:18.966383Z"
    }
   },
   "cell_type": "code",
   "source": "df_test = pd.read_csv('dt/test.csv')",
   "id": "fb0543da2faf32f4",
   "outputs": [
    {
     "name": "stdout",
     "output_type": "stream",
     "text": [
      "           isic_id  target  patient_id  age_approx     sex  \\\n",
      "0     ISIC_0083114       0  IP_6458452        40.0    male   \n",
      "1     ISIC_0083212       0  IP_5180428        45.0  female   \n",
      "2     ISIC_0084556       0  IP_4421863        70.0  female   \n",
      "3     ISIC_0090351       0  IP_4849578        50.0  female   \n",
      "4     ISIC_0090389       0  IP_1948385        45.0  female   \n",
      "...            ...     ...         ...         ...     ...   \n",
      "2074  ISIC_9980823       0  IP_1116526        80.0    male   \n",
      "2075  ISIC_9983798       0  IP_7424727        50.0    male   \n",
      "2076  ISIC_9985153       0  IP_1509264        60.0    male   \n",
      "2077  ISIC_9990402       0  IP_7198665        60.0    male   \n",
      "2078  ISIC_9993724       0  IP_7797815        75.0    male   \n",
      "\n",
      "     anatom_site_general  clin_size_long_diam_mm          image_type  \\\n",
      "0         anterior torso                    2.50  TBP tile: close-up   \n",
      "1        posterior torso                    2.88  TBP tile: close-up   \n",
      "2        posterior torso                    5.81  TBP tile: close-up   \n",
      "3        posterior torso                    7.08  TBP tile: close-up   \n",
      "4        lower extremity                    2.93  TBP tile: close-up   \n",
      "...                  ...                     ...                 ...   \n",
      "2074     posterior torso                    2.77  TBP tile: close-up   \n",
      "2075     upper extremity                    2.71  TBP tile: close-up   \n",
      "2076      anterior torso                    4.86  TBP tile: close-up   \n",
      "2077     posterior torso                    3.90  TBP tile: close-up   \n",
      "2078      anterior torso                    4.16  TBP tile: close-up   \n",
      "\n",
      "     tbp_tile_type   tbp_lv_A  ...  lesion_id  iddx_full  iddx_1  iddx_2  \\\n",
      "0           3D: XP  21.229390  ...        NaN     Benign  Benign     NaN   \n",
      "1           3D: XP  31.373023  ...        NaN     Benign  Benign     NaN   \n",
      "2           3D: XP  24.537826  ...        NaN     Benign  Benign     NaN   \n",
      "3           3D: XP  20.206116  ...        NaN     Benign  Benign     NaN   \n",
      "4           3D: XP  15.453266  ...        NaN     Benign  Benign     NaN   \n",
      "...            ...        ...  ...        ...        ...     ...     ...   \n",
      "2074        3D: XP  16.173527  ...        NaN     Benign  Benign     NaN   \n",
      "2075        3D: XP  29.584430  ...        NaN     Benign  Benign     NaN   \n",
      "2076        3D: XP  17.878173  ...        NaN     Benign  Benign     NaN   \n",
      "2077        3D: XP  19.027080  ...        NaN     Benign  Benign     NaN   \n",
      "2078     3D: white  20.959580  ...        NaN     Benign  Benign     NaN   \n",
      "\n",
      "      iddx_3  iddx_4  iddx_5  mel_mitotic_index  mel_thick_mm  \\\n",
      "0        NaN     NaN     NaN                NaN           NaN   \n",
      "1        NaN     NaN     NaN                NaN           NaN   \n",
      "2        NaN     NaN     NaN                NaN           NaN   \n",
      "3        NaN     NaN     NaN                NaN           NaN   \n",
      "4        NaN     NaN     NaN                NaN           NaN   \n",
      "...      ...     ...     ...                ...           ...   \n",
      "2074     NaN     NaN     NaN                NaN           NaN   \n",
      "2075     NaN     NaN     NaN                NaN           NaN   \n",
      "2076     NaN     NaN     NaN                NaN           NaN   \n",
      "2077     NaN     NaN     NaN                NaN           NaN   \n",
      "2078     NaN     NaN     NaN                NaN           NaN   \n",
      "\n",
      "      tbp_lv_dnn_lesion_confidence  \n",
      "0                       100.000000  \n",
      "1                       100.000000  \n",
      "2                        99.999678  \n",
      "3                        99.999988  \n",
      "4                        55.447656  \n",
      "...                            ...  \n",
      "2074                     99.993634  \n",
      "2075                     99.040810  \n",
      "2076                     99.999988  \n",
      "2077                    100.000000  \n",
      "2078                     91.544340  \n",
      "\n",
      "[2079 rows x 55 columns]\n"
     ]
    }
   ],
   "execution_count": 93
  },
  {
   "metadata": {
    "ExecuteTime": {
     "end_time": "2024-12-07T04:17:03.987366Z",
     "start_time": "2024-12-07T04:17:03.983415Z"
    }
   },
   "cell_type": "code",
   "source": "test_reduced = drop(df_test,to_drop)",
   "id": "46d57d63a636b387",
   "outputs": [],
   "execution_count": 94
  },
  {
   "metadata": {
    "ExecuteTime": {
     "end_time": "2024-12-07T04:18:14.893375Z",
     "start_time": "2024-12-07T04:18:14.887566Z"
    }
   },
   "cell_type": "code",
   "source": "updated_reduced_test = fill_na_with_backward(test_reduced)",
   "id": "b9924414b8c3103a",
   "outputs": [],
   "execution_count": 96
  },
  {
   "metadata": {
    "ExecuteTime": {
     "end_time": "2024-12-07T04:19:14.429963Z",
     "start_time": "2024-12-07T04:19:14.418325Z"
    }
   },
   "cell_type": "code",
   "source": "final_df_test = encode_categorical_features(updated_reduced_test)",
   "id": "b9a26f3640d5085f",
   "outputs": [],
   "execution_count": 98
  },
  {
   "metadata": {
    "ExecuteTime": {
     "end_time": "2024-12-07T04:22:55.346014Z",
     "start_time": "2024-12-07T04:22:55.338867Z"
    }
   },
   "cell_type": "code",
   "source": [
    "feature_list = top_features['Feature'].tolist()\n",
    "# feature_list.append(df['isic_id'])\n",
    "print(feature_list)\n",
    "dataset_test = final_df_test[feature_list]\n",
    "dataset_test['isic_id'] = df['isic_id']\n",
    "dataset_test['target'] = df['target']"
   ],
   "id": "9629fa9b7821a775",
   "outputs": [
    {
     "name": "stdout",
     "output_type": "stream",
     "text": [
      "['age_approx', 'sex', 'anatom_site_general', 'clin_size_long_diam_mm', 'tbp_lv_A', 'tbp_lv_Aext', 'tbp_lv_B', 'tbp_lv_Bext', 'tbp_lv_C', 'tbp_lv_Cext', 'tbp_lv_H', 'tbp_lv_Hext', 'tbp_lv_L', 'tbp_lv_Lext', 'tbp_lv_areaMM2', 'tbp_lv_area_perim_ratio', 'tbp_lv_color_std_mean', 'tbp_lv_deltaA', 'tbp_lv_deltaB', 'tbp_lv_deltaL']\n"
     ]
    }
   ],
   "execution_count": 100
  },
  {
   "metadata": {
    "ExecuteTime": {
     "end_time": "2024-12-07T04:23:07.624817Z",
     "start_time": "2024-12-07T04:23:07.618132Z"
    }
   },
   "cell_type": "code",
   "source": "print(dataset_test)",
   "id": "89b7317486dc232d",
   "outputs": [
    {
     "name": "stdout",
     "output_type": "stream",
     "text": [
      "      age_approx  sex  anatom_site_general  clin_size_long_diam_mm   tbp_lv_A  \\\n",
      "0           40.0    1                    0                    2.50  21.229390   \n",
      "1           45.0    0                    3                    2.88  31.373023   \n",
      "2           70.0    0                    3                    5.81  24.537826   \n",
      "3           50.0    0                    3                    7.08  20.206116   \n",
      "4           45.0    0                    2                    2.93  15.453266   \n",
      "...          ...  ...                  ...                     ...        ...   \n",
      "2074        80.0    1                    3                    2.77  16.173527   \n",
      "2075        50.0    1                    4                    2.71  29.584430   \n",
      "2076        60.0    1                    0                    4.86  17.878173   \n",
      "2077        60.0    1                    3                    3.90  19.027080   \n",
      "2078        75.0    1                    0                    4.16  20.959580   \n",
      "\n",
      "      tbp_lv_Aext   tbp_lv_B  tbp_lv_Bext   tbp_lv_C  tbp_lv_Cext  ...  \\\n",
      "0       12.548430  37.834800    33.500370  43.383860    35.773430  ...   \n",
      "1       22.555011  38.058749    34.281192  49.322763    41.035699  ...   \n",
      "2       19.633856  34.267154    33.867737  42.146681    39.147311  ...   \n",
      "3       13.318802  27.550185    27.562747  34.165770    30.612015  ...   \n",
      "4       13.566034  22.658877    25.897651  27.426778    29.235691  ...   \n",
      "...           ...        ...          ...        ...          ...  ...   \n",
      "2074    13.156433  23.274630    25.791848  28.342396    28.953604  ...   \n",
      "2075    27.192660  33.373390    33.954620  44.598440    43.501230  ...   \n",
      "2076     8.857319  34.020719    29.090186  38.432257    30.408733  ...   \n",
      "2077    10.773450  32.297430    29.754630  37.485380    31.644980  ...   \n",
      "2078    18.677840  26.850570    26.843550  34.062550    32.702260  ...   \n",
      "\n",
      "       tbp_lv_L  tbp_lv_Lext  tbp_lv_areaMM2  tbp_lv_area_perim_ratio  \\\n",
      "0     52.106480    62.297790        3.828110                14.262970   \n",
      "1     50.700558    65.040560        4.916495                13.870967   \n",
      "2     47.301733    60.938311       14.524301                23.277076   \n",
      "3     41.134305    49.880050       21.298555                17.565021   \n",
      "4     44.915018    51.484728        2.552074                19.652451   \n",
      "...         ...          ...             ...                      ...   \n",
      "2074  23.856777    34.114927        4.991556                16.467259   \n",
      "2075  34.621010    39.835070        3.602927                19.080770   \n",
      "2076  46.622920    60.102998        9.607806                16.178163   \n",
      "2077  34.494980    46.842920        7.825108                14.567910   \n",
      "2078  42.467370    50.303770        5.535748                28.078710   \n",
      "\n",
      "      tbp_lv_color_std_mean  tbp_lv_deltaA  tbp_lv_deltaB  tbp_lv_deltaL  \\\n",
      "0                  0.999335       8.680960       4.334427     -10.191310   \n",
      "1                  1.369971       8.818013       3.777557     -14.340002   \n",
      "2                  3.008141       4.903970       0.399416     -13.636577   \n",
      "3                  1.152890       6.887314      -0.012561      -8.745744   \n",
      "4                  0.000000       1.887232      -3.238774      -6.569710   \n",
      "...                     ...            ...            ...            ...   \n",
      "2074               1.842242       3.017094      -2.517218     -10.258150   \n",
      "2075               0.386346       2.391767      -0.581234      -5.214065   \n",
      "2076               1.304636       9.020854       4.930532     -13.480078   \n",
      "2077               1.452679       8.253627       2.542805     -12.347930   \n",
      "2078               1.029336       2.281747       0.007024      -7.836395   \n",
      "\n",
      "           isic_id  target  \n",
      "0     ISIC_0051812       0  \n",
      "1     ISIC_0052220       0  \n",
      "2     ISIC_0075822       0  \n",
      "3     ISIC_0079248       0  \n",
      "4     ISIC_0079746       0  \n",
      "...            ...     ...  \n",
      "2074  ISIC_2582669       0  \n",
      "2075  ISIC_2583008       0  \n",
      "2076  ISIC_2585335       0  \n",
      "2077  ISIC_2585973       0  \n",
      "2078  ISIC_2586300       0  \n",
      "\n",
      "[2079 rows x 22 columns]\n"
     ]
    }
   ],
   "execution_count": 101
  },
  {
   "metadata": {
    "ExecuteTime": {
     "end_time": "2024-12-07T04:24:48.241591Z",
     "start_time": "2024-12-07T04:24:48.216147Z"
    }
   },
   "cell_type": "code",
   "source": "dataset_test.to_csv('FE_test_csv.csv', index=False)",
   "id": "49af04f381bdfdd4",
   "outputs": [],
   "execution_count": 102
  }
 ],
 "metadata": {
  "kernelspec": {
   "display_name": "Python 3",
   "language": "python",
   "name": "python3"
  },
  "language_info": {
   "codemirror_mode": {
    "name": "ipython",
    "version": 2
   },
   "file_extension": ".py",
   "mimetype": "text/x-python",
   "name": "python",
   "nbconvert_exporter": "python",
   "pygments_lexer": "ipython2",
   "version": "2.7.6"
  }
 },
 "nbformat": 4,
 "nbformat_minor": 5
}
